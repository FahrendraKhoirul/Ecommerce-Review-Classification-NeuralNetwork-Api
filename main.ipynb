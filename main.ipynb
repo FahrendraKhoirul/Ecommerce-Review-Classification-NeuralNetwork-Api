{
 "cells": [
  {
   "cell_type": "code",
   "execution_count": 1,
   "metadata": {},
   "outputs": [],
   "source": [
    "import neural_network as nn\n",
    "\n",
    "# Create a neural network with 2 input neurons, 2 hidden neurons, and 1 output neuron\n",
    "mynetwork = nn.NeuralNetwork(10, 3)\n"
   ]
  },
  {
   "cell_type": "code",
   "execution_count": 2,
   "metadata": {},
   "outputs": [],
   "source": [
    "import numpy as np"
   ]
  },
  {
   "cell_type": "code",
   "execution_count": 3,
   "metadata": {},
   "outputs": [],
   "source": [
    "mynetwork.add_hidden_layer(4)"
   ]
  },
  {
   "cell_type": "code",
   "execution_count": 4,
   "metadata": {},
   "outputs": [],
   "source": [
    "mynetwork.create_weight_matrix()\n",
    "# mynetwork.create_bias_vector()"
   ]
  },
  {
   "cell_type": "code",
   "execution_count": 5,
   "metadata": {},
   "outputs": [],
   "source": [
    "# mynetwork.bias_vector"
   ]
  },
  {
   "cell_type": "code",
   "execution_count": 6,
   "metadata": {},
   "outputs": [
    {
     "data": {
      "text/plain": [
       "array([0.43746301, 0.55750877, 0.06750067, 0.55274613, 0.4658052 ,\n",
       "       0.10696184, 0.283377  , 0.04863783, 0.85469536, 0.24120725])"
      ]
     },
     "execution_count": 6,
     "metadata": {},
     "output_type": "execute_result"
    }
   ],
   "source": [
    "test = np.random.rand(10)\n",
    "test"
   ]
  },
  {
   "cell_type": "code",
   "execution_count": 7,
   "metadata": {},
   "outputs": [],
   "source": [
    "# mynetwork.feed_forward(test)"
   ]
  },
  {
   "cell_type": "code",
   "execution_count": null,
   "metadata": {},
   "outputs": [],
   "source": []
  },
  {
   "cell_type": "code",
   "execution_count": 8,
   "metadata": {},
   "outputs": [],
   "source": [
    "# target = np.array([1, 0, 0])\n",
    "# pred = mynetwork.feed_forward(test)\n",
    "# error = target - pred\n",
    "# error"
   ]
  },
  {
   "cell_type": "code",
   "execution_count": 9,
   "metadata": {},
   "outputs": [],
   "source": [
    "# delta = error * (pred * (1 - pred))\n",
    "# delta"
   ]
  },
  {
   "cell_type": "code",
   "execution_count": 10,
   "metadata": {},
   "outputs": [],
   "source": [
    "# cat_loss = mynetwork.categorical_crossentropy_loss(target, pred)\n",
    "# cat_loss"
   ]
  },
  {
   "cell_type": "markdown",
   "metadata": {},
   "source": [
    "# TEST WITH IRIS\n"
   ]
  },
  {
   "cell_type": "code",
   "execution_count": 11,
   "metadata": {},
   "outputs": [],
   "source": [
    "# # Read csv file\n",
    "# import pandas as pd\n",
    "# data = pd.read_csv('Iris.csv')\n",
    "# data.head()"
   ]
  },
  {
   "cell_type": "code",
   "execution_count": 12,
   "metadata": {},
   "outputs": [],
   "source": [
    "# change = {'Iris-setosa': 0, 'Iris-versicolor': 1, 'Iris-virginica': 2}\n",
    "# data['Species'] = data['Species'].map(change)\n",
    "# data.head()"
   ]
  },
  {
   "cell_type": "code",
   "execution_count": 13,
   "metadata": {},
   "outputs": [],
   "source": [
    "# import neural_network as nn\n",
    "# import numpy as np\n",
    "\n",
    "# # Create a neural network with 4 input neurons, 3 hidden neurons, and 3 output neuron\n",
    "# mynetwork = nn.NeuralNetwork(4, 3)\n",
    "# mynetwork.add_hidden_layer(4)\n",
    "# mynetwork.create_weight_matrix()\n",
    "# mynetwork.create_bias_matrix()\n",
    "\n",
    "# # Split data into training and testing\n",
    "# from sklearn.model_selection import train_test_split\n",
    "# X = data.drop(['Species', 'Id'], axis=1)\n",
    "# y = data['Species']\n",
    "# X_train, X_test, y_train, y_test = train_test_split(X, y, test_size=0.2, random_state=0)\n",
    "\n"
   ]
  },
  {
   "cell_type": "code",
   "execution_count": 14,
   "metadata": {},
   "outputs": [],
   "source": [
    "# mynetwork.bias_matrix"
   ]
  },
  {
   "cell_type": "code",
   "execution_count": 15,
   "metadata": {},
   "outputs": [],
   "source": [
    "# # Train the neural network\n",
    "# y_0 = np.eye(3)[y_train.iloc[0]]\n",
    "# x_0 = X_train.iloc[0]\n",
    "\n",
    "# output_layer = mynetwork.feed_forward(x_0)\n",
    "# print(\"Output Feedforward\",output_layer)\n",
    "# backprop_error = mynetwork.backpropagation(y_0, output_layer)"
   ]
  },
  {
   "cell_type": "markdown",
   "metadata": {},
   "source": [
    "# TEST VECTORIZATION MODE\n"
   ]
  },
  {
   "cell_type": "code",
   "execution_count": 16,
   "metadata": {},
   "outputs": [
    {
     "data": {
      "text/html": [
       "<div>\n",
       "<style scoped>\n",
       "    .dataframe tbody tr th:only-of-type {\n",
       "        vertical-align: middle;\n",
       "    }\n",
       "\n",
       "    .dataframe tbody tr th {\n",
       "        vertical-align: top;\n",
       "    }\n",
       "\n",
       "    .dataframe thead th {\n",
       "        text-align: right;\n",
       "    }\n",
       "</style>\n",
       "<table border=\"1\" class=\"dataframe\">\n",
       "  <thead>\n",
       "    <tr style=\"text-align: right;\">\n",
       "      <th></th>\n",
       "      <th>Id</th>\n",
       "      <th>SepalLengthCm</th>\n",
       "      <th>SepalWidthCm</th>\n",
       "      <th>PetalLengthCm</th>\n",
       "      <th>PetalWidthCm</th>\n",
       "      <th>Species</th>\n",
       "    </tr>\n",
       "  </thead>\n",
       "  <tbody>\n",
       "    <tr>\n",
       "      <th>0</th>\n",
       "      <td>1</td>\n",
       "      <td>5.1</td>\n",
       "      <td>3.5</td>\n",
       "      <td>1.4</td>\n",
       "      <td>0.2</td>\n",
       "      <td>0</td>\n",
       "    </tr>\n",
       "    <tr>\n",
       "      <th>1</th>\n",
       "      <td>2</td>\n",
       "      <td>4.9</td>\n",
       "      <td>3.0</td>\n",
       "      <td>1.4</td>\n",
       "      <td>0.2</td>\n",
       "      <td>0</td>\n",
       "    </tr>\n",
       "    <tr>\n",
       "      <th>2</th>\n",
       "      <td>3</td>\n",
       "      <td>4.7</td>\n",
       "      <td>3.2</td>\n",
       "      <td>1.3</td>\n",
       "      <td>0.2</td>\n",
       "      <td>0</td>\n",
       "    </tr>\n",
       "    <tr>\n",
       "      <th>3</th>\n",
       "      <td>4</td>\n",
       "      <td>4.6</td>\n",
       "      <td>3.1</td>\n",
       "      <td>1.5</td>\n",
       "      <td>0.2</td>\n",
       "      <td>0</td>\n",
       "    </tr>\n",
       "    <tr>\n",
       "      <th>4</th>\n",
       "      <td>5</td>\n",
       "      <td>5.0</td>\n",
       "      <td>3.6</td>\n",
       "      <td>1.4</td>\n",
       "      <td>0.2</td>\n",
       "      <td>0</td>\n",
       "    </tr>\n",
       "  </tbody>\n",
       "</table>\n",
       "</div>"
      ],
      "text/plain": [
       "   Id  SepalLengthCm  SepalWidthCm  PetalLengthCm  PetalWidthCm  Species\n",
       "0   1            5.1           3.5            1.4           0.2        0\n",
       "1   2            4.9           3.0            1.4           0.2        0\n",
       "2   3            4.7           3.2            1.3           0.2        0\n",
       "3   4            4.6           3.1            1.5           0.2        0\n",
       "4   5            5.0           3.6            1.4           0.2        0"
      ]
     },
     "execution_count": 16,
     "metadata": {},
     "output_type": "execute_result"
    }
   ],
   "source": [
    "# Read csv file\n",
    "import pandas as pd\n",
    "data = pd.read_csv('Iris.csv')\n",
    "data.head()\n",
    "\n",
    "change = {'Iris-setosa': 0, 'Iris-versicolor': 1, 'Iris-virginica': 2}\n",
    "data['Species'] = data['Species'].map(change)\n",
    "data.head()"
   ]
  },
  {
   "cell_type": "code",
   "execution_count": 17,
   "metadata": {},
   "outputs": [],
   "source": [
    "import neural_network as nn\n",
    "import numpy as np\n",
    "\n",
    "# Create a neural network with 4 input neurons, 3 hidden neurons, and 3 output neuron\n",
    "myNN = nn.NeuralNetwork(4, 3)\n",
    "myNN.add_hidden_layer(5)\n",
    "myNN.create_weight_matrix()\n",
    "myNN.create_bias_matrix()\n",
    "\n",
    "# Split data into training and testing\n",
    "from sklearn.model_selection import train_test_split\n",
    "X = data.drop(['Species', 'Id'], axis=1)\n",
    "y = data['Species']\n",
    "X_train, X_test, y_train, y_test = train_test_split(X, y, test_size=0.2, random_state=0)\n",
    "\n"
   ]
  },
  {
   "cell_type": "code",
   "execution_count": 18,
   "metadata": {},
   "outputs": [
    {
     "name": "stdout",
     "output_type": "stream",
     "text": [
      "----  Output  ----\n",
      "Shape:  (3, 1)\n",
      "Size:  3\n",
      "Dimension:  2\n",
      "isNumpy:  True\n",
      "\n",
      "\n"
     ]
    }
   ],
   "source": [
    "output = myNN.feedforward_vectorization_mode(X_train.iloc[0])\n",
    "myNN.print_info(output, \"Output\")"
   ]
  },
  {
   "cell_type": "code",
   "execution_count": 19,
   "metadata": {},
   "outputs": [
    {
     "name": "stdout",
     "output_type": "stream",
     "text": [
      "len of hidden layer 2\n",
      "----  hidden_layer  ----\n",
      "Shape:  (5, 1)\n",
      "Size:  5\n",
      "Dimension:  2\n",
      "isNumpy:  True\n",
      "\n",
      "\n",
      "----  hidden_layer  ----\n",
      "Shape:  (3, 1)\n",
      "Size:  3\n",
      "Dimension:  2\n",
      "isNumpy:  True\n",
      "\n",
      "\n"
     ]
    }
   ],
   "source": [
    "print(\"len of hidden layer\", len(myNN.hidden_layer))\n",
    "for i in myNN.hidden_layer:\n",
    "    myNN.print_info(i, \"hidden_layer\")"
   ]
  },
  {
   "cell_type": "code",
   "execution_count": 20,
   "metadata": {},
   "outputs": [
    {
     "name": "stdout",
     "output_type": "stream",
     "text": [
      "----  Bias Matrix 2  ----\n",
      "Shape:  (3,)\n",
      "Size:  3\n",
      "Dimension:  1\n",
      "isNumpy:  True\n",
      "\n",
      "\n",
      "----  Gradient Bias 2  ----\n",
      "Shape:  (3, 1)\n",
      "Size:  3\n",
      "Dimension:  2\n",
      "isNumpy:  True\n",
      "\n",
      "\n",
      "----  Bias Matrix 1  ----\n",
      "Shape:  (5,)\n",
      "Size:  5\n",
      "Dimension:  1\n",
      "isNumpy:  True\n",
      "\n",
      "\n",
      "----  Gradient Bias 1  ----\n",
      "Shape:  (5, 1)\n",
      "Size:  5\n",
      "Dimension:  2\n",
      "isNumpy:  True\n",
      "\n",
      "\n"
     ]
    },
    {
     "data": {
      "text/plain": [
       "30.82522439332966"
      ]
     },
     "execution_count": 20,
     "metadata": {},
     "output_type": "execute_result"
    }
   ],
   "source": [
    "myNN.backpropagation_vectorization_mode(y_train.iloc[0], output)"
   ]
  },
  {
   "cell_type": "code",
   "execution_count": 21,
   "metadata": {},
   "outputs": [
    {
     "name": "stdout",
     "output_type": "stream",
     "text": [
      "----  Bias  ----\n",
      "Shape:  (5, 5)\n",
      "Size:  25\n",
      "Dimension:  2\n",
      "isNumpy:  True\n",
      "\n",
      "\n",
      "----  Bias  ----\n",
      "Shape:  (3, 5)\n",
      "Size:  15\n",
      "Dimension:  2\n",
      "isNumpy:  True\n",
      "\n",
      "\n"
     ]
    }
   ],
   "source": [
    "# print info all bias\n",
    "for i in myNN.bias_matrix:\n",
    "    myNN.print_info(i, \"Bias\")"
   ]
  },
  {
   "cell_type": "code",
   "execution_count": null,
   "metadata": {},
   "outputs": [],
   "source": []
  }
 ],
 "metadata": {
  "kernelspec": {
   "display_name": "base",
   "language": "python",
   "name": "python3"
  },
  "language_info": {
   "codemirror_mode": {
    "name": "ipython",
    "version": 3
   },
   "file_extension": ".py",
   "mimetype": "text/x-python",
   "name": "python",
   "nbconvert_exporter": "python",
   "pygments_lexer": "ipython3",
   "version": "3.9.13"
  }
 },
 "nbformat": 4,
 "nbformat_minor": 2
}
