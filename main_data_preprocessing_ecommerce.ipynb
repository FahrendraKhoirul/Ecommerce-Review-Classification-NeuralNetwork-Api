{
 "cells": [
  {
   "cell_type": "markdown",
   "metadata": {},
   "source": [
    "## LOAD DATASET\n"
   ]
  },
  {
   "cell_type": "code",
   "execution_count": 1,
   "metadata": {},
   "outputs": [
    {
     "data": {
      "text/html": [
       "<div>\n",
       "<style scoped>\n",
       "    .dataframe tbody tr th:only-of-type {\n",
       "        vertical-align: middle;\n",
       "    }\n",
       "\n",
       "    .dataframe tbody tr th {\n",
       "        vertical-align: top;\n",
       "    }\n",
       "\n",
       "    .dataframe thead th {\n",
       "        text-align: right;\n",
       "    }\n",
       "</style>\n",
       "<table border=\"1\" class=\"dataframe\">\n",
       "  <thead>\n",
       "    <tr style=\"text-align: right;\">\n",
       "      <th></th>\n",
       "      <th>text</th>\n",
       "      <th>label</th>\n",
       "      <th>category_id</th>\n",
       "    </tr>\n",
       "  </thead>\n",
       "  <tbody>\n",
       "    <tr>\n",
       "      <th>0</th>\n",
       "      <td>Cepat sampaiiiiiiiiiiiiiiiiiiiiiiiiii</td>\n",
       "      <td>Pengiriman</td>\n",
       "      <td>2</td>\n",
       "    </tr>\n",
       "    <tr>\n",
       "      <th>1</th>\n",
       "      <td>Fast response recommended seller</td>\n",
       "      <td>Layanan Pelanggan</td>\n",
       "      <td>1</td>\n",
       "    </tr>\n",
       "    <tr>\n",
       "      <th>2</th>\n",
       "      <td>Barang bagus tapi analog kiri sama kanan kalo ...</td>\n",
       "      <td>Produk</td>\n",
       "      <td>0</td>\n",
       "    </tr>\n",
       "    <tr>\n",
       "      <th>3</th>\n",
       "      <td>keren gan Produknya buat main games</td>\n",
       "      <td>Produk</td>\n",
       "      <td>0</td>\n",
       "    </tr>\n",
       "    <tr>\n",
       "      <th>4</th>\n",
       "      <td>mantap gan!!!!!.Barang bagus juga</td>\n",
       "      <td>Produk</td>\n",
       "      <td>0</td>\n",
       "    </tr>\n",
       "    <tr>\n",
       "      <th>...</th>\n",
       "      <td>...</td>\n",
       "      <td>...</td>\n",
       "      <td>...</td>\n",
       "    </tr>\n",
       "    <tr>\n",
       "      <th>1019</th>\n",
       "      <td>gak nyangaka keren banget jamnya hi hi</td>\n",
       "      <td>Produk</td>\n",
       "      <td>0</td>\n",
       "    </tr>\n",
       "    <tr>\n",
       "      <th>1020</th>\n",
       "      <td>Pengiriman sangat cepat. Terima kasih</td>\n",
       "      <td>Pengiriman</td>\n",
       "      <td>2</td>\n",
       "    </tr>\n",
       "    <tr>\n",
       "      <th>1021</th>\n",
       "      <td>Pesan + bayar tgl. 07 Sep 18 jam 2 siang. Bara...</td>\n",
       "      <td>Layanan Pelanggan</td>\n",
       "      <td>1</td>\n",
       "    </tr>\n",
       "    <tr>\n",
       "      <th>1022</th>\n",
       "      <td>Packingnya keren rapi dan aman pakai bubble wr...</td>\n",
       "      <td>Layanan Pelanggan</td>\n",
       "      <td>1</td>\n",
       "    </tr>\n",
       "    <tr>\n",
       "      <th>1023</th>\n",
       "      <td>Produk kedua yang saya beli disini masih memua...</td>\n",
       "      <td>Produk</td>\n",
       "      <td>0</td>\n",
       "    </tr>\n",
       "  </tbody>\n",
       "</table>\n",
       "<p>1024 rows × 3 columns</p>\n",
       "</div>"
      ],
      "text/plain": [
       "                                                   text              label  \\\n",
       "0                 Cepat sampaiiiiiiiiiiiiiiiiiiiiiiiiii         Pengiriman   \n",
       "1                      Fast response recommended seller  Layanan Pelanggan   \n",
       "2     Barang bagus tapi analog kiri sama kanan kalo ...             Produk   \n",
       "3                   keren gan Produknya buat main games             Produk   \n",
       "4                    mantap gan!!!!!.Barang bagus juga              Produk   \n",
       "...                                                 ...                ...   \n",
       "1019             gak nyangaka keren banget jamnya hi hi             Produk   \n",
       "1020              Pengiriman sangat cepat. Terima kasih         Pengiriman   \n",
       "1021  Pesan + bayar tgl. 07 Sep 18 jam 2 siang. Bara...  Layanan Pelanggan   \n",
       "1022  Packingnya keren rapi dan aman pakai bubble wr...  Layanan Pelanggan   \n",
       "1023  Produk kedua yang saya beli disini masih memua...             Produk   \n",
       "\n",
       "      category_id  \n",
       "0               2  \n",
       "1               1  \n",
       "2               0  \n",
       "3               0  \n",
       "4               0  \n",
       "...           ...  \n",
       "1019            0  \n",
       "1020            2  \n",
       "1021            1  \n",
       "1022            1  \n",
       "1023            0  \n",
       "\n",
       "[1024 rows x 3 columns]"
      ]
     },
     "execution_count": 1,
     "metadata": {},
     "output_type": "execute_result"
    }
   ],
   "source": [
    "import pandas as pd\n",
    "data = pd.read_csv('../../Dataset/Dataset Skripsi - Fix Dataset (Final).csv')\n",
    "\n",
    "#  add new column and set value to category of label column, produk = 0, layanan pelanggan= 1, pengiriman = 2\n",
    "cat_code = {'Produk': 0, 'Layanan Pelanggan': 1, 'Pengiriman': 2}\n",
    "data['category_id'] = data['label'].map(cat_code)\n",
    "data\n"
   ]
  },
  {
   "cell_type": "markdown",
   "metadata": {},
   "source": [
    "### EDA\n"
   ]
  },
  {
   "cell_type": "code",
   "execution_count": 2,
   "metadata": {},
   "outputs": [
    {
     "data": {
      "text/plain": [
       "label\n",
       "Layanan Pelanggan    329\n",
       "Pengiriman           172\n",
       "Produk               523\n",
       "dtype: int64"
      ]
     },
     "execution_count": 2,
     "metadata": {},
     "output_type": "execute_result"
    }
   ],
   "source": [
    "data.groupby('label').size()"
   ]
  },
  {
   "cell_type": "code",
   "execution_count": 3,
   "metadata": {},
   "outputs": [
    {
     "data": {
      "image/png": "[encoded data removed]",
      "text/plain": [
       "<Figure size 640x480 with 1 Axes>"
      ]
     },
     "metadata": {},
     "output_type": "display_data"
    }
   ],
   "source": [
    "# do EDA\n",
    "import matplotlib.pyplot as plt\n",
    "import seaborn as sns\n",
    "sns.set(style=\"darkgrid\")\n",
    "# add exact number on top of bar\n",
    "datagroup = data.groupby('label').size()\n",
    "for index, value in enumerate(datagroup):\n",
    "    plt.text(index, value, str(value))\n",
    "ax = sns.countplot(x=\"label\", data=data, order=datagroup.index)\n",
    "plt.show()\n",
    "\n"
   ]
  },
  {
   "cell_type": "code",
   "execution_count": 4,
   "metadata": {},
   "outputs": [
    {
     "data": {
      "text/plain": [
       "label\n",
       "Layanan Pelanggan    329\n",
       "Pengiriman           172\n",
       "Produk               523\n",
       "dtype: int64"
      ]
     },
     "execution_count": 4,
     "metadata": {},
     "output_type": "execute_result"
    }
   ],
   "source": [
    "data.groupby('label').size()"
   ]
  },
  {
   "cell_type": "code",
   "execution_count": 13,
   "metadata": {},
   "outputs": [
    {
     "data": {
      "text/html": [
       "<div>\n",
       "<style scoped>\n",
       "    .dataframe tbody tr th:only-of-type {\n",
       "        vertical-align: middle;\n",
       "    }\n",
       "\n",
       "    .dataframe tbody tr th {\n",
       "        vertical-align: top;\n",
       "    }\n",
       "\n",
       "    .dataframe thead th {\n",
       "        text-align: right;\n",
       "    }\n",
       "</style>\n",
       "<table border=\"1\" class=\"dataframe\">\n",
       "  <thead>\n",
       "    <tr style=\"text-align: right;\">\n",
       "      <th></th>\n",
       "      <th>text</th>\n",
       "      <th>label</th>\n",
       "      <th>category_id</th>\n",
       "    </tr>\n",
       "  </thead>\n",
       "  <tbody>\n",
       "    <tr>\n",
       "      <th>0</th>\n",
       "      <td>Cepat sampaiiiiiiiiiiiiiiiiiiiiiiiiii</td>\n",
       "      <td>Pengiriman</td>\n",
       "      <td>2</td>\n",
       "    </tr>\n",
       "    <tr>\n",
       "      <th>1</th>\n",
       "      <td>Fast response recommended seller</td>\n",
       "      <td>Layanan Pelanggan</td>\n",
       "      <td>1</td>\n",
       "    </tr>\n",
       "    <tr>\n",
       "      <th>2</th>\n",
       "      <td>Barang bagus tapi analog kiri sama kanan kalo ...</td>\n",
       "      <td>Produk</td>\n",
       "      <td>0</td>\n",
       "    </tr>\n",
       "    <tr>\n",
       "      <th>3</th>\n",
       "      <td>keren gan Produknya buat main games</td>\n",
       "      <td>Produk</td>\n",
       "      <td>0</td>\n",
       "    </tr>\n",
       "    <tr>\n",
       "      <th>4</th>\n",
       "      <td>mantap gan!!!!!.Barang bagus juga</td>\n",
       "      <td>Produk</td>\n",
       "      <td>0</td>\n",
       "    </tr>\n",
       "  </tbody>\n",
       "</table>\n",
       "</div>"
      ],
      "text/plain": [
       "                                                text              label  \\\n",
       "0              Cepat sampaiiiiiiiiiiiiiiiiiiiiiiiiii         Pengiriman   \n",
       "1                   Fast response recommended seller  Layanan Pelanggan   \n",
       "2  Barang bagus tapi analog kiri sama kanan kalo ...             Produk   \n",
       "3                keren gan Produknya buat main games             Produk   \n",
       "4                 mantap gan!!!!!.Barang bagus juga              Produk   \n",
       "\n",
       "   category_id  \n",
       "0            2  \n",
       "1            1  \n",
       "2            0  \n",
       "3            0  \n",
       "4            0  "
      ]
     },
     "execution_count": 13,
     "metadata": {},
     "output_type": "execute_result"
    }
   ],
   "source": [
    "data.head()"
   ]
  },
  {
   "cell_type": "markdown",
   "metadata": {},
   "source": [
    "# PREPROCESSING\n"
   ]
  },
  {
   "cell_type": "markdown",
   "metadata": {},
   "source": [
    "## Cleaning\n"
   ]
  },
  {
   "cell_type": "code",
   "execution_count": 5,
   "metadata": {},
   "outputs": [
    {
     "data": {
      "text/plain": [
       "0                cepat sampaiiiiiiiiiiiiiiiiiiiiiiiiii\n",
       "1                     fast response recommended seller\n",
       "2    barang bagus analog kiri kanan kalo setting ja...\n",
       "3                          keren gan produk main games\n",
       "4                              mantap gan barang bagus\n",
       "Name: text, dtype: object"
      ]
     },
     "execution_count": 5,
     "metadata": {},
     "output_type": "execute_result"
    }
   ],
   "source": [
    "import preprocessing as pre\n",
    "\n",
    "data_clean = data.text.apply(pre.preprocess)\n",
    "data_clean.head()"
   ]
  },
  {
   "cell_type": "code",
   "execution_count": 14,
   "metadata": {},
   "outputs": [
    {
     "data": {
      "text/html": [
       "<div>\n",
       "<style scoped>\n",
       "    .dataframe tbody tr th:only-of-type {\n",
       "        vertical-align: middle;\n",
       "    }\n",
       "\n",
       "    .dataframe tbody tr th {\n",
       "        vertical-align: top;\n",
       "    }\n",
       "\n",
       "    .dataframe thead th {\n",
       "        text-align: right;\n",
       "    }\n",
       "</style>\n",
       "<table border=\"1\" class=\"dataframe\">\n",
       "  <thead>\n",
       "    <tr style=\"text-align: right;\">\n",
       "      <th></th>\n",
       "      <th>text</th>\n",
       "      <th>label</th>\n",
       "      <th>category_id</th>\n",
       "      <th>text_clean</th>\n",
       "    </tr>\n",
       "  </thead>\n",
       "  <tbody>\n",
       "    <tr>\n",
       "      <th>0</th>\n",
       "      <td>Cepat sampaiiiiiiiiiiiiiiiiiiiiiiiiii</td>\n",
       "      <td>Pengiriman</td>\n",
       "      <td>2</td>\n",
       "      <td>cepat sampaiiiiiiiiiiiiiiiiiiiiiiiiii</td>\n",
       "    </tr>\n",
       "    <tr>\n",
       "      <th>1</th>\n",
       "      <td>Fast response recommended seller</td>\n",
       "      <td>Layanan Pelanggan</td>\n",
       "      <td>1</td>\n",
       "      <td>fast response recommended seller</td>\n",
       "    </tr>\n",
       "    <tr>\n",
       "      <th>2</th>\n",
       "      <td>Barang bagus tapi analog kiri sama kanan kalo ...</td>\n",
       "      <td>Produk</td>\n",
       "      <td>0</td>\n",
       "      <td>barang bagus analog kiri kanan kalo setting ja...</td>\n",
       "    </tr>\n",
       "    <tr>\n",
       "      <th>3</th>\n",
       "      <td>keren gan Produknya buat main games</td>\n",
       "      <td>Produk</td>\n",
       "      <td>0</td>\n",
       "      <td>keren gan produk main games</td>\n",
       "    </tr>\n",
       "    <tr>\n",
       "      <th>4</th>\n",
       "      <td>mantap gan!!!!!.Barang bagus juga</td>\n",
       "      <td>Produk</td>\n",
       "      <td>0</td>\n",
       "      <td>mantap gan barang bagus</td>\n",
       "    </tr>\n",
       "  </tbody>\n",
       "</table>\n",
       "</div>"
      ],
      "text/plain": [
       "                                                text              label  \\\n",
       "0              Cepat sampaiiiiiiiiiiiiiiiiiiiiiiiiii         Pengiriman   \n",
       "1                   Fast response recommended seller  Layanan Pelanggan   \n",
       "2  Barang bagus tapi analog kiri sama kanan kalo ...             Produk   \n",
       "3                keren gan Produknya buat main games             Produk   \n",
       "4                 mantap gan!!!!!.Barang bagus juga              Produk   \n",
       "\n",
       "   category_id                                         text_clean  \n",
       "0            2              cepat sampaiiiiiiiiiiiiiiiiiiiiiiiiii  \n",
       "1            1                   fast response recommended seller  \n",
       "2            0  barang bagus analog kiri kanan kalo setting ja...  \n",
       "3            0                        keren gan produk main games  \n",
       "4            0                            mantap gan barang bagus  "
      ]
     },
     "execution_count": 14,
     "metadata": {},
     "output_type": "execute_result"
    }
   ],
   "source": [
    "data['text_clean'] = data_clean\n",
    "data.head()"
   ]
  },
  {
   "cell_type": "code",
   "execution_count": 17,
   "metadata": {},
   "outputs": [],
   "source": [
    "# save to csv\n",
    "data.to_csv('../../Dataset/Dataset Skripsi - Fix Dataset (Final) - Clean.csv', index=False)"
   ]
  },
  {
   "cell_type": "code",
   "execution_count": 18,
   "metadata": {},
   "outputs": [
    {
     "data": {
      "text/html": [
       "<div>\n",
       "<style scoped>\n",
       "    .dataframe tbody tr th:only-of-type {\n",
       "        vertical-align: middle;\n",
       "    }\n",
       "\n",
       "    .dataframe tbody tr th {\n",
       "        vertical-align: top;\n",
       "    }\n",
       "\n",
       "    .dataframe thead th {\n",
       "        text-align: right;\n",
       "    }\n",
       "</style>\n",
       "<table border=\"1\" class=\"dataframe\">\n",
       "  <thead>\n",
       "    <tr style=\"text-align: right;\">\n",
       "      <th></th>\n",
       "      <th>text</th>\n",
       "      <th>label</th>\n",
       "      <th>category_id</th>\n",
       "      <th>text_clean</th>\n",
       "    </tr>\n",
       "  </thead>\n",
       "  <tbody>\n",
       "    <tr>\n",
       "      <th>0</th>\n",
       "      <td>Cepat sampaiiiiiiiiiiiiiiiiiiiiiiiiii</td>\n",
       "      <td>Pengiriman</td>\n",
       "      <td>2</td>\n",
       "      <td>cepat sampaiiiiiiiiiiiiiiiiiiiiiiiiii</td>\n",
       "    </tr>\n",
       "    <tr>\n",
       "      <th>1</th>\n",
       "      <td>Fast response recommended seller</td>\n",
       "      <td>Layanan Pelanggan</td>\n",
       "      <td>1</td>\n",
       "      <td>fast response recommended seller</td>\n",
       "    </tr>\n",
       "    <tr>\n",
       "      <th>2</th>\n",
       "      <td>Barang bagus tapi analog kiri sama kanan kalo ...</td>\n",
       "      <td>Produk</td>\n",
       "      <td>0</td>\n",
       "      <td>barang bagus analog kiri kanan kalo setting ja...</td>\n",
       "    </tr>\n",
       "    <tr>\n",
       "      <th>3</th>\n",
       "      <td>keren gan Produknya buat main games</td>\n",
       "      <td>Produk</td>\n",
       "      <td>0</td>\n",
       "      <td>keren gan produk main games</td>\n",
       "    </tr>\n",
       "    <tr>\n",
       "      <th>4</th>\n",
       "      <td>mantap gan!!!!!.Barang bagus juga</td>\n",
       "      <td>Produk</td>\n",
       "      <td>0</td>\n",
       "      <td>mantap gan barang bagus</td>\n",
       "    </tr>\n",
       "  </tbody>\n",
       "</table>\n",
       "</div>"
      ],
      "text/plain": [
       "                                                text              label  \\\n",
       "0              Cepat sampaiiiiiiiiiiiiiiiiiiiiiiiiii         Pengiriman   \n",
       "1                   Fast response recommended seller  Layanan Pelanggan   \n",
       "2  Barang bagus tapi analog kiri sama kanan kalo ...             Produk   \n",
       "3                keren gan Produknya buat main games             Produk   \n",
       "4                 mantap gan!!!!!.Barang bagus juga              Produk   \n",
       "\n",
       "   category_id                                         text_clean  \n",
       "0            2              cepat sampaiiiiiiiiiiiiiiiiiiiiiiiiii  \n",
       "1            1                   fast response recommended seller  \n",
       "2            0  barang bagus analog kiri kanan kalo setting ja...  \n",
       "3            0                        keren gan produk main games  \n",
       "4            0                            mantap gan barang bagus  "
      ]
     },
     "execution_count": 18,
     "metadata": {},
     "output_type": "execute_result"
    }
   ],
   "source": [
    "# load scv again\n",
    "data = pd.read_csv('../../Dataset/Dataset Skripsi - Fix Dataset (Final) - Clean.csv')\n",
    "data.head()"
   ]
  },
  {
   "cell_type": "markdown",
   "metadata": {},
   "source": [
    "After doing preprocess, i will split the data into train set and test set. After that, i will save the data into different csv file. So ican use it later with seamlessly without run again the preprocess from the beginning.\n"
   ]
  },
  {
   "cell_type": "markdown",
   "metadata": {},
   "source": [
    "## Splitting\n",
    "\n",
    "1. Ratio 80 : 20\n"
   ]
  },
  {
   "cell_type": "code",
   "execution_count": 19,
   "metadata": {},
   "outputs": [],
   "source": [
    "from sklearn.model_selection import StratifiedShuffleSplit\n",
    "\n",
    "# Let's say your DataFrame is df and you want to stratify by the 'label' column\n",
    "split = StratifiedShuffleSplit(n_splits=1, test_size=0.2, random_state=42)\n",
    "\n",
    "for train_index, test_index in split.split(data, data['label']):\n",
    "    df_train = data.loc[train_index]\n",
    "    df_test = data.loc[test_index]"
   ]
  },
  {
   "cell_type": "code",
   "execution_count": 24,
   "metadata": {},
   "outputs": [
    {
     "data": {
      "text/html": [
       "<div>\n",
       "<style scoped>\n",
       "    .dataframe tbody tr th:only-of-type {\n",
       "        vertical-align: middle;\n",
       "    }\n",
       "\n",
       "    .dataframe tbody tr th {\n",
       "        vertical-align: top;\n",
       "    }\n",
       "\n",
       "    .dataframe thead th {\n",
       "        text-align: right;\n",
       "    }\n",
       "</style>\n",
       "<table border=\"1\" class=\"dataframe\">\n",
       "  <thead>\n",
       "    <tr style=\"text-align: right;\">\n",
       "      <th></th>\n",
       "      <th>text</th>\n",
       "      <th>label</th>\n",
       "      <th>category_id</th>\n",
       "      <th>text_clean</th>\n",
       "    </tr>\n",
       "  </thead>\n",
       "  <tbody>\n",
       "    <tr>\n",
       "      <th>335</th>\n",
       "      <td>barang sudah saya terima thanks</td>\n",
       "      <td>Layanan Pelanggan</td>\n",
       "      <td>1</td>\n",
       "      <td>barang terima thanks</td>\n",
       "    </tr>\n",
       "    <tr>\n",
       "      <th>481</th>\n",
       "      <td>Fast ResponseFriendly Recommended Seller</td>\n",
       "      <td>Layanan Pelanggan</td>\n",
       "      <td>1</td>\n",
       "      <td>fast responsefriendly recommended seller</td>\n",
       "    </tr>\n",
       "    <tr>\n",
       "      <th>657</th>\n",
       "      <td>Seller fast respon Produk sudah diterima buat ...</td>\n",
       "      <td>Layanan Pelanggan</td>\n",
       "      <td>1</td>\n",
       "      <td>seller fast respon produk terima stok thanks</td>\n",
       "    </tr>\n",
       "    <tr>\n",
       "      <th>205</th>\n",
       "      <td>mantap gan. laen kali pesen langsung</td>\n",
       "      <td>Layanan Pelanggan</td>\n",
       "      <td>1</td>\n",
       "      <td>mantap gan laen kali sen langsung</td>\n",
       "    </tr>\n",
       "    <tr>\n",
       "      <th>671</th>\n",
       "      <td>Fast respon dan barangnya mulus sip</td>\n",
       "      <td>Layanan Pelanggan</td>\n",
       "      <td>1</td>\n",
       "      <td>fast respon barang mulus sip</td>\n",
       "    </tr>\n",
       "  </tbody>\n",
       "</table>\n",
       "</div>"
      ],
      "text/plain": [
       "                                                  text              label  \\\n",
       "335                    barang sudah saya terima thanks  Layanan Pelanggan   \n",
       "481         Fast ResponseFriendly Recommended Seller    Layanan Pelanggan   \n",
       "657  Seller fast respon Produk sudah diterima buat ...  Layanan Pelanggan   \n",
       "205               mantap gan. laen kali pesen langsung  Layanan Pelanggan   \n",
       "671                Fast respon dan barangnya mulus sip  Layanan Pelanggan   \n",
       "\n",
       "     category_id                                    text_clean  \n",
       "335            1                          barang terima thanks  \n",
       "481            1      fast responsefriendly recommended seller  \n",
       "657            1  seller fast respon produk terima stok thanks  \n",
       "205            1             mantap gan laen kali sen langsung  \n",
       "671            1                  fast respon barang mulus sip  "
      ]
     },
     "execution_count": 24,
     "metadata": {},
     "output_type": "execute_result"
    }
   ],
   "source": [
    "df_train.head()"
   ]
  },
  {
   "cell_type": "code",
   "execution_count": 23,
   "metadata": {},
   "outputs": [
    {
     "data": {
      "text/plain": [
       "label\n",
       "Produk               105\n",
       "Layanan Pelanggan     66\n",
       "Pengiriman            34\n",
       "Name: count, dtype: int64"
      ]
     },
     "execution_count": 23,
     "metadata": {},
     "output_type": "execute_result"
    }
   ],
   "source": [
    "\n",
    "df_test['label'].value_counts()\n"
   ]
  },
  {
   "cell_type": "code",
   "execution_count": 25,
   "metadata": {},
   "outputs": [],
   "source": [
    "# save to csv\n",
    "df_train.to_csv('../../Dataset/Dataset Skripsi - Fix Dataset (Final) - Clean - 80 - Train.csv', index=False)\n",
    "\n",
    "df_test.to_csv('../../Dataset/Dataset Skripsi - Fix Dataset (Final) - Clean - 80 - Test.csv', index=False)\n"
   ]
  },
  {
   "cell_type": "code",
   "execution_count": 26,
   "metadata": {},
   "outputs": [],
   "source": [
    "# load scv again\n",
    "df_train = pd.read_csv('../../Dataset/Dataset Skripsi - Fix Dataset (Final) - Clean - 80 - Train.csv')\n",
    "\n",
    "df_test = pd.read_csv('../../Dataset/Dataset Skripsi - Fix Dataset (Final) - Clean - 80 - Test.csv')\n",
    "\n"
   ]
  },
  {
   "cell_type": "code",
   "execution_count": 28,
   "metadata": {},
   "outputs": [
    {
     "data": {
      "text/html": [
       "<div>\n",
       "<style scoped>\n",
       "    .dataframe tbody tr th:only-of-type {\n",
       "        vertical-align: middle;\n",
       "    }\n",
       "\n",
       "    .dataframe tbody tr th {\n",
       "        vertical-align: top;\n",
       "    }\n",
       "\n",
       "    .dataframe thead th {\n",
       "        text-align: right;\n",
       "    }\n",
       "</style>\n",
       "<table border=\"1\" class=\"dataframe\">\n",
       "  <thead>\n",
       "    <tr style=\"text-align: right;\">\n",
       "      <th></th>\n",
       "      <th>text</th>\n",
       "      <th>label</th>\n",
       "      <th>category_id</th>\n",
       "      <th>text_clean</th>\n",
       "    </tr>\n",
       "  </thead>\n",
       "  <tbody>\n",
       "    <tr>\n",
       "      <th>0</th>\n",
       "      <td>Proses dan Pengirimannya cepat banget! Packing...</td>\n",
       "      <td>Pengiriman</td>\n",
       "      <td>2</td>\n",
       "      <td>proses kirim cepat banget packing rapi barang ...</td>\n",
       "    </tr>\n",
       "    <tr>\n",
       "      <th>1</th>\n",
       "      <td>sangat memuaskan sesuaia dengan yang di post</td>\n",
       "      <td>Produk</td>\n",
       "      <td>0</td>\n",
       "      <td>muas sesuaia post</td>\n",
       "    </tr>\n",
       "    <tr>\n",
       "      <th>2</th>\n",
       "      <td>Keren jamnya terima kasih ya</td>\n",
       "      <td>Produk</td>\n",
       "      <td>0</td>\n",
       "      <td>keren jam terima kasih ya</td>\n",
       "    </tr>\n",
       "    <tr>\n",
       "      <th>3</th>\n",
       "      <td>Pengiriman cepattt sayaukaa sekaliih 😍</td>\n",
       "      <td>Pengiriman</td>\n",
       "      <td>2</td>\n",
       "      <td>kirim cepattt sayaukaa sekaliih</td>\n",
       "    </tr>\n",
       "    <tr>\n",
       "      <th>4</th>\n",
       "      <td>Cakep nih gak bakal kecewa  recommend bngt</td>\n",
       "      <td>Layanan Pelanggan</td>\n",
       "      <td>1</td>\n",
       "      <td>cakep nih gak bakal kecewa recommend bngt</td>\n",
       "    </tr>\n",
       "    <tr>\n",
       "      <th>...</th>\n",
       "      <td>...</td>\n",
       "      <td>...</td>\n",
       "      <td>...</td>\n",
       "      <td>...</td>\n",
       "    </tr>\n",
       "    <tr>\n",
       "      <th>200</th>\n",
       "      <td>Barang murah tapi gak murahan</td>\n",
       "      <td>Produk</td>\n",
       "      <td>0</td>\n",
       "      <td>barang murah gak murah</td>\n",
       "    </tr>\n",
       "    <tr>\n",
       "      <th>201</th>\n",
       "      <td>Thanks gan barang sudah sampai packing rapi be...</td>\n",
       "      <td>Layanan Pelanggan</td>\n",
       "      <td>1</td>\n",
       "      <td>thanks gan barang packing rapi fungsi baik</td>\n",
       "    </tr>\n",
       "    <tr>\n",
       "      <th>202</th>\n",
       "      <td>Keren jam nya thanks flash sale</td>\n",
       "      <td>Produk</td>\n",
       "      <td>0</td>\n",
       "      <td>keren jam nya thanks flash sale</td>\n",
       "    </tr>\n",
       "    <tr>\n",
       "      <th>203</th>\n",
       "      <td>analog kiri gak berfungsi gan.</td>\n",
       "      <td>Produk</td>\n",
       "      <td>0</td>\n",
       "      <td>analog kiri gak fungsi gan</td>\n",
       "    </tr>\n",
       "    <tr>\n",
       "      <th>204</th>\n",
       "      <td>Barang bagus harga maknyuuzzz Top markotop hah...</td>\n",
       "      <td>Produk</td>\n",
       "      <td>0</td>\n",
       "      <td>barang bagus harga maknyuuzzz top markotop hah...</td>\n",
       "    </tr>\n",
       "  </tbody>\n",
       "</table>\n",
       "<p>205 rows × 4 columns</p>\n",
       "</div>"
      ],
      "text/plain": [
       "                                                  text              label  \\\n",
       "0    Proses dan Pengirimannya cepat banget! Packing...         Pengiriman   \n",
       "1         sangat memuaskan sesuaia dengan yang di post             Produk   \n",
       "2                         Keren jamnya terima kasih ya             Produk   \n",
       "3               Pengiriman cepattt sayaukaa sekaliih 😍         Pengiriman   \n",
       "4           Cakep nih gak bakal kecewa  recommend bngt  Layanan Pelanggan   \n",
       "..                                                 ...                ...   \n",
       "200                      Barang murah tapi gak murahan             Produk   \n",
       "201  Thanks gan barang sudah sampai packing rapi be...  Layanan Pelanggan   \n",
       "202                    Keren jam nya thanks flash sale             Produk   \n",
       "203                     analog kiri gak berfungsi gan.             Produk   \n",
       "204  Barang bagus harga maknyuuzzz Top markotop hah...             Produk   \n",
       "\n",
       "     category_id                                         text_clean  \n",
       "0              2  proses kirim cepat banget packing rapi barang ...  \n",
       "1              0                                  muas sesuaia post  \n",
       "2              0                          keren jam terima kasih ya  \n",
       "3              2                    kirim cepattt sayaukaa sekaliih  \n",
       "4              1          cakep nih gak bakal kecewa recommend bngt  \n",
       "..           ...                                                ...  \n",
       "200            0                             barang murah gak murah  \n",
       "201            1         thanks gan barang packing rapi fungsi baik  \n",
       "202            0                    keren jam nya thanks flash sale  \n",
       "203            0                         analog kiri gak fungsi gan  \n",
       "204            0  barang bagus harga maknyuuzzz top markotop hah...  \n",
       "\n",
       "[205 rows x 4 columns]"
      ]
     },
     "execution_count": 28,
     "metadata": {},
     "output_type": "execute_result"
    }
   ],
   "source": [
    "df_test"
   ]
  },
  {
   "cell_type": "markdown",
   "metadata": {},
   "source": [
    "## TFIDF\n"
   ]
  },
  {
   "cell_type": "code",
   "execution_count": 29,
   "metadata": {},
   "outputs": [],
   "source": [
    "import tfidf as tfidf\n",
    "import pickle\n"
   ]
  },
  {
   "cell_type": "code",
   "execution_count": 33,
   "metadata": {},
   "outputs": [],
   "source": [
    "# 80 : 20\n",
    "tfidf_model_80 = tfidf.TFIDF(df_train.text_clean) # init tfidf model with train data\n",
    "df_tfidf_train_80 = df_train\n",
    "df_tfidf_train_80['tfidf'] = df_train.text.apply(tfidf_model_80.transform) # get tfidf value for each word in train data\n",
    "df_tfidf_test_80 = df_test\n",
    "df_tfidf_test_80['tfidf'] = df_test.text.apply(tfidf_model_80.transform) # get tfidf value for each word in test data\n",
    "\n",
    "# save to pickle\n",
    "with open('../../Dataset/TFIDF Model - 80.pkl', 'wb') as f:\n",
    "    pickle.dump(tfidf_model_80, f, pickle.HIGHEST_PROTOCOL)\n",
    "\n",
    "with open('../../Dataset/Dataset Skripsi - Fix Dataset (Final) - Clean - 80 - Train - TFIDF.pkl', 'wb') as f:\n",
    "    pickle.dump(df_tfidf_train_80, f, pickle.HIGHEST_PROTOCOL)\n",
    "\n",
    "with open('../../Dataset/Dataset Skripsi - Fix Dataset (Final) - Clean - 80 - Test - TFIDF.pkl', 'wb') as f:\n",
    "    pickle.dump(df_tfidf_test_80, f, pickle.HIGHEST_PROTOCOL)\n"
   ]
  },
  {
   "cell_type": "code",
   "execution_count": 34,
   "metadata": {},
   "outputs": [
    {
     "data": {
      "text/plain": [
       "1085"
      ]
     },
     "execution_count": 34,
     "metadata": {},
     "output_type": "execute_result"
    }
   ],
   "source": [
    "len(tfidf_model_80.word_list)"
   ]
  },
  {
   "cell_type": "code",
   "execution_count": null,
   "metadata": {},
   "outputs": [],
   "source": []
  }
 ],
 "metadata": {
  "kernelspec": {
   "display_name": "tf-gpu",
   "language": "python",
   "name": "python3"
  },
  "language_info": {
   "codemirror_mode": {
    "name": "ipython",
    "version": 3
   },
   "file_extension": ".py",
   "mimetype": "text/x-python",
   "name": "python",
   "nbconvert_exporter": "python",
   "pygments_lexer": "ipython3",
   "version": "3.9.16"
  }
 },
 "nbformat": 4,
 "nbformat_minor": 2
}
