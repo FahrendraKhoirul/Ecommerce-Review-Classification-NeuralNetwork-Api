{
 "cells": [
  {
   "cell_type": "markdown",
   "metadata": {},
   "source": [
    "## LOAD DATASET\n"
   ]
  },
  {
   "cell_type": "code",
   "execution_count": 6,
   "metadata": {},
   "outputs": [
    {
     "data": {
      "text/html": [
       "<div>\n",
       "<style scoped>\n",
       "    .dataframe tbody tr th:only-of-type {\n",
       "        vertical-align: middle;\n",
       "    }\n",
       "\n",
       "    .dataframe tbody tr th {\n",
       "        vertical-align: top;\n",
       "    }\n",
       "\n",
       "    .dataframe thead th {\n",
       "        text-align: right;\n",
       "    }\n",
       "</style>\n",
       "<table border=\"1\" class=\"dataframe\">\n",
       "  <thead>\n",
       "    <tr style=\"text-align: right;\">\n",
       "      <th></th>\n",
       "      <th>text</th>\n",
       "      <th>label</th>\n",
       "      <th>category_id</th>\n",
       "    </tr>\n",
       "  </thead>\n",
       "  <tbody>\n",
       "    <tr>\n",
       "      <th>0</th>\n",
       "      <td>Cepat sampaiiiiiiiiiiiiiiiiiiiiiiiiii</td>\n",
       "      <td>Pengiriman</td>\n",
       "      <td>2</td>\n",
       "    </tr>\n",
       "    <tr>\n",
       "      <th>1</th>\n",
       "      <td>Fast response recommended seller</td>\n",
       "      <td>Layanan Pelanggan</td>\n",
       "      <td>1</td>\n",
       "    </tr>\n",
       "    <tr>\n",
       "      <th>2</th>\n",
       "      <td>Barang bagus tapi analog kiri sama kanan kalo ...</td>\n",
       "      <td>Produk</td>\n",
       "      <td>0</td>\n",
       "    </tr>\n",
       "    <tr>\n",
       "      <th>3</th>\n",
       "      <td>keren gan Produknya buat main games</td>\n",
       "      <td>Produk</td>\n",
       "      <td>0</td>\n",
       "    </tr>\n",
       "    <tr>\n",
       "      <th>4</th>\n",
       "      <td>mantap gan!!!!!.Barang bagus juga</td>\n",
       "      <td>Produk</td>\n",
       "      <td>0</td>\n",
       "    </tr>\n",
       "    <tr>\n",
       "      <th>...</th>\n",
       "      <td>...</td>\n",
       "      <td>...</td>\n",
       "      <td>...</td>\n",
       "    </tr>\n",
       "    <tr>\n",
       "      <th>1019</th>\n",
       "      <td>gak nyangaka keren banget jamnya hi hi</td>\n",
       "      <td>Produk</td>\n",
       "      <td>0</td>\n",
       "    </tr>\n",
       "    <tr>\n",
       "      <th>1020</th>\n",
       "      <td>Pengiriman sangat cepat. Terima kasih</td>\n",
       "      <td>Pengiriman</td>\n",
       "      <td>2</td>\n",
       "    </tr>\n",
       "    <tr>\n",
       "      <th>1021</th>\n",
       "      <td>Pesan + bayar tgl. 07 Sep 18 jam 2 siang. Bara...</td>\n",
       "      <td>Layanan Pelanggan</td>\n",
       "      <td>1</td>\n",
       "    </tr>\n",
       "    <tr>\n",
       "      <th>1022</th>\n",
       "      <td>Packingnya keren rapi dan aman pakai bubble wr...</td>\n",
       "      <td>Layanan Pelanggan</td>\n",
       "      <td>1</td>\n",
       "    </tr>\n",
       "    <tr>\n",
       "      <th>1023</th>\n",
       "      <td>Produk kedua yang saya beli disini masih memua...</td>\n",
       "      <td>Produk</td>\n",
       "      <td>0</td>\n",
       "    </tr>\n",
       "  </tbody>\n",
       "</table>\n",
       "<p>1024 rows × 3 columns</p>\n",
       "</div>"
      ],
      "text/plain": [
       "                                                   text              label  \\\n",
       "0                 Cepat sampaiiiiiiiiiiiiiiiiiiiiiiiiii         Pengiriman   \n",
       "1                      Fast response recommended seller  Layanan Pelanggan   \n",
       "2     Barang bagus tapi analog kiri sama kanan kalo ...             Produk   \n",
       "3                   keren gan Produknya buat main games             Produk   \n",
       "4                    mantap gan!!!!!.Barang bagus juga              Produk   \n",
       "...                                                 ...                ...   \n",
       "1019             gak nyangaka keren banget jamnya hi hi             Produk   \n",
       "1020              Pengiriman sangat cepat. Terima kasih         Pengiriman   \n",
       "1021  Pesan + bayar tgl. 07 Sep 18 jam 2 siang. Bara...  Layanan Pelanggan   \n",
       "1022  Packingnya keren rapi dan aman pakai bubble wr...  Layanan Pelanggan   \n",
       "1023  Produk kedua yang saya beli disini masih memua...             Produk   \n",
       "\n",
       "      category_id  \n",
       "0               2  \n",
       "1               1  \n",
       "2               0  \n",
       "3               0  \n",
       "4               0  \n",
       "...           ...  \n",
       "1019            0  \n",
       "1020            2  \n",
       "1021            1  \n",
       "1022            1  \n",
       "1023            0  \n",
       "\n",
       "[1024 rows x 3 columns]"
      ]
     },
     "execution_count": 6,
     "metadata": {},
     "output_type": "execute_result"
    }
   ],
   "source": [
    "import pandas as pd\n",
    "data = pd.read_csv('../../Dataset/Dataset Skripsi - Fix Dataset (Final).csv')\n",
    "\n",
    "#  add new column and set value to category of label column, produk = 0, layanan pelanggan= 1, pengiriman = 2\n",
    "cat_code = {'Produk': 0, 'Layanan Pelanggan': 1, 'Pengiriman': 2}\n",
    "data['category_id'] = data['label'].map(cat_code)\n",
    "data\n"
   ]
  },
  {
   "cell_type": "markdown",
   "metadata": {},
   "source": [
    "### EDA\n"
   ]
  },
  {
   "cell_type": "code",
   "execution_count": 7,
   "metadata": {},
   "outputs": [
    {
     "data": {
      "text/plain": [
       "label\n",
       "Layanan Pelanggan    329\n",
       "Pengiriman           172\n",
       "Produk               523\n",
       "dtype: int64"
      ]
     },
     "execution_count": 7,
     "metadata": {},
     "output_type": "execute_result"
    }
   ],
   "source": [
    "data.groupby('label').size()"
   ]
  },
  {
   "cell_type": "code",
   "execution_count": 8,
   "metadata": {},
   "outputs": [
    {
     "data": {
      "image/png": "[encoded data removed]",
      "text/plain": [
       "<Figure size 640x480 with 1 Axes>"
      ]
     },
     "metadata": {},
     "output_type": "display_data"
    }
   ],
   "source": [
    "# do EDA\n",
    "import matplotlib.pyplot as plt\n",
    "import seaborn as sns\n",
    "sns.set(style=\"darkgrid\")\n",
    "# add exact number on top of bar\n",
    "datagroup = data.groupby('label').size()\n",
    "for index, value in enumerate(datagroup):\n",
    "    plt.text(index, value, str(value))\n",
    "ax = sns.countplot(x=\"label\", data=data, order=datagroup.index)\n",
    "plt.show()\n",
    "\n"
   ]
  },
  {
   "cell_type": "markdown",
   "metadata": {},
   "source": [
    "### Upsampling\n"
   ]
  },
  {
   "cell_type": "code",
   "execution_count": 9,
   "metadata": {},
   "outputs": [],
   "source": [
    "# do sampling\n",
    "from sklearn.utils import resample\n",
    "\n",
    "# Separate majority and minority classes\n",
    "df_majority = data[data.category_id==0]\n",
    "df_minority_layanan = data[data.category_id==1]\n",
    "df_minority_pengiriman = data[data.category_id==2]\n",
    "\n",
    "# Upsample minority class\n",
    "df_minority_upsampled_layanan = resample(df_minority_layanan, \n",
    "                                 replace=True,     # sample with replacement\n",
    "                                 n_samples=df_majority.shape[0],    # to match majority class\n",
    "                                 random_state=123) # reproducible results\n",
    "\n",
    "df_minority_upsampled_pengiriman = resample(df_minority_pengiriman,\n",
    "                                    replace=True,     # sample with replacement\n",
    "                                    n_samples=df_majority.shape[0],    # to match majority class\n",
    "                                    random_state=123) # reproducible results\n",
    "# Combine majority class with upsampled minority class\n",
    "data = pd.concat([df_majority, df_minority_upsampled_layanan, df_minority_upsampled_pengiriman])\n",
    "# shuffle data\n",
    "data = data.sample(frac=1).reset_index(drop=True)\n",
    "\n",
    "\n"
   ]
  },
  {
   "cell_type": "code",
   "execution_count": 10,
   "metadata": {},
   "outputs": [
    {
     "data": {
      "text/plain": [
       "label\n",
       "Layanan Pelanggan    523\n",
       "Pengiriman           523\n",
       "Produk               523\n",
       "dtype: int64"
      ]
     },
     "execution_count": 10,
     "metadata": {},
     "output_type": "execute_result"
    }
   ],
   "source": [
    "data.groupby('label').size()"
   ]
  },
  {
   "cell_type": "code",
   "execution_count": 11,
   "metadata": {},
   "outputs": [
    {
     "data": {
      "image/png": "[encoded data removed]",
      "text/plain": [
       "<Figure size 640x480 with 1 Axes>"
      ]
     },
     "metadata": {},
     "output_type": "display_data"
    }
   ],
   "source": [
    "sns.set(style=\"darkgrid\")\n",
    "# add exact number on top of bar\n",
    "datagroup = data.groupby('label').size()\n",
    "for index, value in enumerate(datagroup):\n",
    "    plt.text(index, value, str(value))\n",
    "ax = sns.countplot(x=\"label\", data=data, order=datagroup.index)\n",
    "plt.show()"
   ]
  },
  {
   "cell_type": "code",
   "execution_count": 12,
   "metadata": {},
   "outputs": [],
   "source": [
    "#  save to csv\n",
    "# data.to_csv('../../Dataset/Dataset Skripsi - Fix Dataset (Final) - Upsampled.csv', index=False)\n"
   ]
  },
  {
   "cell_type": "code",
   "execution_count": 13,
   "metadata": {},
   "outputs": [
    {
     "data": {
      "text/html": [
       "<div>\n",
       "<style scoped>\n",
       "    .dataframe tbody tr th:only-of-type {\n",
       "        vertical-align: middle;\n",
       "    }\n",
       "\n",
       "    .dataframe tbody tr th {\n",
       "        vertical-align: top;\n",
       "    }\n",
       "\n",
       "    .dataframe thead th {\n",
       "        text-align: right;\n",
       "    }\n",
       "</style>\n",
       "<table border=\"1\" class=\"dataframe\">\n",
       "  <thead>\n",
       "    <tr style=\"text-align: right;\">\n",
       "      <th></th>\n",
       "      <th>text</th>\n",
       "      <th>label</th>\n",
       "      <th>category_id</th>\n",
       "    </tr>\n",
       "  </thead>\n",
       "  <tbody>\n",
       "    <tr>\n",
       "      <th>0</th>\n",
       "      <td>Pelayanan ok barang ok berfungsi baik thanks</td>\n",
       "      <td>Layanan Pelanggan</td>\n",
       "      <td>1</td>\n",
       "    </tr>\n",
       "    <tr>\n",
       "      <th>1</th>\n",
       "      <td>Barang oke pelayanan juga oke banget thanks su...</td>\n",
       "      <td>Layanan Pelanggan</td>\n",
       "      <td>1</td>\n",
       "    </tr>\n",
       "    <tr>\n",
       "      <th>2</th>\n",
       "      <td>Sudah ditest dan semua berjalan dengan baik.</td>\n",
       "      <td>Produk</td>\n",
       "      <td>0</td>\n",
       "    </tr>\n",
       "    <tr>\n",
       "      <th>3</th>\n",
       "      <td>Kualitas baik Pengiriman cepat fast respond</td>\n",
       "      <td>Pengiriman</td>\n",
       "      <td>2</td>\n",
       "    </tr>\n",
       "    <tr>\n",
       "      <th>4</th>\n",
       "      <td>Pengiriman cepat barang ok dan berfungsi denga...</td>\n",
       "      <td>Pengiriman</td>\n",
       "      <td>2</td>\n",
       "    </tr>\n",
       "  </tbody>\n",
       "</table>\n",
       "</div>"
      ],
      "text/plain": [
       "                                                text              label  \\\n",
       "0       Pelayanan ok barang ok berfungsi baik thanks  Layanan Pelanggan   \n",
       "1  Barang oke pelayanan juga oke banget thanks su...  Layanan Pelanggan   \n",
       "2       Sudah ditest dan semua berjalan dengan baik.             Produk   \n",
       "3        Kualitas baik Pengiriman cepat fast respond         Pengiriman   \n",
       "4  Pengiriman cepat barang ok dan berfungsi denga...         Pengiriman   \n",
       "\n",
       "   category_id  \n",
       "0            1  \n",
       "1            1  \n",
       "2            0  \n",
       "3            2  \n",
       "4            2  "
      ]
     },
     "execution_count": 13,
     "metadata": {},
     "output_type": "execute_result"
    }
   ],
   "source": [
    "# load scv again\n",
    "data = pd.read_csv('../../Dataset/Dataset Skripsi - Fix Dataset (Final) - Upsampled.csv')\n",
    "data.head()"
   ]
  },
  {
   "cell_type": "markdown",
   "metadata": {},
   "source": [
    "# PREPROCESSING\n"
   ]
  },
  {
   "cell_type": "markdown",
   "metadata": {},
   "source": [
    "## Cleaning\n"
   ]
  },
  {
   "cell_type": "code",
   "execution_count": 14,
   "metadata": {},
   "outputs": [],
   "source": [
    "import preprocessing as pre\n",
    "\n",
    "# data_clean = data.text.apply(pre.preprocess)\n",
    "# data_clean.head()"
   ]
  },
  {
   "cell_type": "code",
   "execution_count": 15,
   "metadata": {},
   "outputs": [],
   "source": [
    "# save to csv\n",
    "# data_clean.to_csv('../../Dataset/Dataset Skripsi - Fix Dataset (Final) - Upsampled - Clean.csv', index=False)"
   ]
  },
  {
   "cell_type": "code",
   "execution_count": 16,
   "metadata": {},
   "outputs": [
    {
     "data": {
      "text/html": [
       "<div>\n",
       "<style scoped>\n",
       "    .dataframe tbody tr th:only-of-type {\n",
       "        vertical-align: middle;\n",
       "    }\n",
       "\n",
       "    .dataframe tbody tr th {\n",
       "        vertical-align: top;\n",
       "    }\n",
       "\n",
       "    .dataframe thead th {\n",
       "        text-align: right;\n",
       "    }\n",
       "</style>\n",
       "<table border=\"1\" class=\"dataframe\">\n",
       "  <thead>\n",
       "    <tr style=\"text-align: right;\">\n",
       "      <th></th>\n",
       "      <th>text</th>\n",
       "    </tr>\n",
       "  </thead>\n",
       "  <tbody>\n",
       "    <tr>\n",
       "      <th>0</th>\n",
       "      <td>layan ok barang ok fungsi baik thanks</td>\n",
       "    </tr>\n",
       "    <tr>\n",
       "      <th>1</th>\n",
       "      <td>barang oke layan oke banget thanks sukses teru...</td>\n",
       "    </tr>\n",
       "    <tr>\n",
       "      <th>2</th>\n",
       "      <td>ditest jalan baik</td>\n",
       "    </tr>\n",
       "    <tr>\n",
       "      <th>3</th>\n",
       "      <td>kualitas baik kirim cepat fast respond</td>\n",
       "    </tr>\n",
       "    <tr>\n",
       "      <th>4</th>\n",
       "      <td>kirim cepat barang ok fungsi baik tiba tempat ...</td>\n",
       "    </tr>\n",
       "  </tbody>\n",
       "</table>\n",
       "</div>"
      ],
      "text/plain": [
       "                                                text\n",
       "0              layan ok barang ok fungsi baik thanks\n",
       "1  barang oke layan oke banget thanks sukses teru...\n",
       "2                                  ditest jalan baik\n",
       "3             kualitas baik kirim cepat fast respond\n",
       "4  kirim cepat barang ok fungsi baik tiba tempat ..."
      ]
     },
     "execution_count": 16,
     "metadata": {},
     "output_type": "execute_result"
    }
   ],
   "source": [
    "# load scv again\n",
    "data_clean = pd.read_csv('../../Dataset/Dataset Skripsi - Fix Dataset (Final) - Upsampled - Clean.csv')\n",
    "data_clean.head()"
   ]
  },
  {
   "cell_type": "markdown",
   "metadata": {},
   "source": [
    "After doing preprocess, i will split the data into train set and test set. After that, i will save the data into different csv file. So ican use it later with seamlessly without run again the preprocess from the beginning.\n"
   ]
  },
  {
   "cell_type": "markdown",
   "metadata": {},
   "source": [
    "## Splitting\n",
    "\n",
    "1. Ratio 90 : 10\n",
    "2. Ratio 80 : 20\n",
    "3. Ratio 70 : 30\n"
   ]
  },
  {
   "cell_type": "code",
   "execution_count": 17,
   "metadata": {},
   "outputs": [],
   "source": [
    "# 90 : 10\n",
    "\n",
    "#  shuffle with same ratio for each category\n",
    "from sklearn.model_selection import train_test_split\n",
    "\n",
    "X_train_90, X_test_90, y_train_90, y_test_90 = train_test_split(data_clean, data.category_id, test_size=0.1, random_state=42, stratify=data.category_id)\n",
    "X_train_80, X_test_80, y_train_80, y_test_80 = train_test_split(data_clean, data.category_id, test_size=0.2, random_state=42, stratify=data.category_id)\n",
    "X_train_70, X_test_70, y_train_70, y_test_70 = train_test_split(data_clean, data.category_id, test_size=0.3, random_state=42, stratify=data.category_id)\n"
   ]
  },
  {
   "cell_type": "code",
   "execution_count": 18,
   "metadata": {},
   "outputs": [
    {
     "name": "stdout",
     "output_type": "stream",
     "text": [
      "90 : 10\n",
      "X_train (1412, 1)\n",
      "X_test (157, 1)\n",
      "y_train (1412,)\n",
      "y_test (157,)\n",
      "80 : 20\n",
      "X_train (1255, 1)\n",
      "X_test (314, 1)\n",
      "y_train (1255,)\n",
      "y_test (314,)\n",
      "70 : 30\n",
      "X_train (1098, 1)\n",
      "X_test (471, 1)\n",
      "y_train (1098,)\n",
      "y_test (471,)\n"
     ]
    }
   ],
   "source": [
    "print(\"90 : 10\")\n",
    "print(\"X_train\", X_train_90.shape)\n",
    "print(\"X_test\", X_test_90.shape)\n",
    "print(\"y_train\", y_train_90.shape)\n",
    "print(\"y_test\", y_test_90.shape)\n",
    "\n",
    "print(\"80 : 20\")\n",
    "print(\"X_train\", X_train_80.shape)\n",
    "print(\"X_test\", X_test_80.shape)\n",
    "print(\"y_train\", y_train_80.shape)\n",
    "print(\"y_test\", y_test_80.shape)\n",
    "\n",
    "print(\"70 : 30\")\n",
    "print(\"X_train\", X_train_70.shape)\n",
    "print(\"X_test\", X_test_70.shape)\n",
    "print(\"y_train\", y_train_70.shape)\n",
    "print(\"y_test\", y_test_70.shape)\n"
   ]
  },
  {
   "cell_type": "code",
   "execution_count": 41,
   "metadata": {},
   "outputs": [],
   "source": [
    "df_join_train_90 = pd.concat([X_train_90, y_train_90], axis=1)\n",
    "df_join_train_80 = pd.concat([X_train_80, y_train_80], axis=1)\n",
    "df_join_train_70 = pd.concat([X_train_70, y_train_70], axis=1)\n",
    "\n",
    "df_join_test_90 = pd.concat([X_test_90, y_test_90], axis=1)\n",
    "df_join_test_80 = pd.concat([X_test_80, y_test_80], axis=1)\n",
    "df_join_test_70 = pd.concat([X_test_70, y_test_70], axis=1)\n",
    "\n",
    "# add category column\n",
    "df_join_train_90['label'] = df_join_train_90['category_id'].map({0: 'Produk', 1: 'Layanan Pelanggan', 2: 'Pengiriman'})\n",
    "df_join_train_80['label'] = df_join_train_80['category_id'].map({0: 'Produk', 1: 'Layanan Pelanggan', 2: 'Pengiriman'})\n",
    "df_join_train_70['label'] = df_join_train_70['category_id'].map({0: 'Produk', 1: 'Layanan Pelanggan', 2: 'Pengiriman'})\n",
    "\n",
    "df_join_test_90['label'] = df_join_test_90['category_id'].map({0: 'Produk', 1: 'Layanan Pelanggan', 2: 'Pengiriman'})\n",
    "df_join_test_80['label'] = df_join_test_80['category_id'].map({0: 'Produk', 1: 'Layanan Pelanggan', 2: 'Pengiriman'})\n",
    "df_join_test_70['label'] = df_join_test_70['category_id'].map({0: 'Produk', 1: 'Layanan Pelanggan', 2: 'Pengiriman'})\n",
    "\n",
    "# save to csv\n",
    "# df_join_train_90.to_csv('../../Dataset/Dataset Skripsi - Fix Dataset (Final) - Upsampled - Clean - 90 - Train.csv', index=False)\n",
    "# df_join_train_80.to_csv('../../Dataset/Dataset Skripsi - Fix Dataset (Final) - Upsampled - Clean - 80 - Train.csv', index=False)\n",
    "# df_join_train_70.to_csv('../../Dataset/Dataset Skripsi - Fix Dataset (Final) - Upsampled - Clean - 70 - Train.csv', index=False)\n",
    "\n",
    "# df_join_test_90.to_csv('../../Dataset/Dataset Skripsi - Fix Dataset (Final) - Upsampled - Clean - 90 - Test.csv', index=False)\n",
    "# df_join_test_80.to_csv('../../Dataset/Dataset Skripsi - Fix Dataset (Final) - Upsampled - Clean - 80 - Test.csv', index=False)\n",
    "# df_join_test_70.to_csv('../../Dataset/Dataset Skripsi - Fix Dataset (Final) - Upsampled - Clean - 70 - Test.csv', index=False)\n"
   ]
  },
  {
   "cell_type": "code",
   "execution_count": 42,
   "metadata": {},
   "outputs": [],
   "source": [
    "# load scv again\n",
    "df_join_train_90 = pd.read_csv('../../Dataset/Dataset Skripsi - Fix Dataset (Final) - Upsampled - Clean - 90 - Train.csv')\n",
    "df_join_train_80 = pd.read_csv('../../Dataset/Dataset Skripsi - Fix Dataset (Final) - Upsampled - Clean - 80 - Train.csv')\n",
    "df_join_train_70 = pd.read_csv('../../Dataset/Dataset Skripsi - Fix Dataset (Final) - Upsampled - Clean - 70 - Train.csv')\n",
    "\n",
    "df_join_test_90 = pd.read_csv('../../Dataset/Dataset Skripsi - Fix Dataset (Final) - Upsampled - Clean - 90 - Test.csv')\n",
    "df_join_test_80 = pd.read_csv('../../Dataset/Dataset Skripsi - Fix Dataset (Final) - Upsampled - Clean - 80 - Test.csv')\n",
    "df_join_test_70 = pd.read_csv('../../Dataset/Dataset Skripsi - Fix Dataset (Final) - Upsampled - Clean - 70 - Test.csv')\n",
    "\n"
   ]
  },
  {
   "cell_type": "code",
   "execution_count": 43,
   "metadata": {},
   "outputs": [
    {
     "data": {
      "text/html": [
       "<div>\n",
       "<style scoped>\n",
       "    .dataframe tbody tr th:only-of-type {\n",
       "        vertical-align: middle;\n",
       "    }\n",
       "\n",
       "    .dataframe tbody tr th {\n",
       "        vertical-align: top;\n",
       "    }\n",
       "\n",
       "    .dataframe thead th {\n",
       "        text-align: right;\n",
       "    }\n",
       "</style>\n",
       "<table border=\"1\" class=\"dataframe\">\n",
       "  <thead>\n",
       "    <tr style=\"text-align: right;\">\n",
       "      <th></th>\n",
       "      <th>text</th>\n",
       "      <th>category_id</th>\n",
       "      <th>label</th>\n",
       "    </tr>\n",
       "  </thead>\n",
       "  <tbody>\n",
       "    <tr>\n",
       "      <th>0</th>\n",
       "      <td>barang sesuai guna baik</td>\n",
       "      <td>0</td>\n",
       "      <td>Produk</td>\n",
       "    </tr>\n",
       "    <tr>\n",
       "      <th>1</th>\n",
       "      <td>produk kirim beda pics pics warna strap hitam ...</td>\n",
       "      <td>0</td>\n",
       "      <td>Produk</td>\n",
       "    </tr>\n",
       "    <tr>\n",
       "      <th>2</th>\n",
       "      <td>barang terima baik kirim cepat barang sesuai p...</td>\n",
       "      <td>2</td>\n",
       "      <td>Pengiriman</td>\n",
       "    </tr>\n",
       "    <tr>\n",
       "      <th>3</th>\n",
       "      <td>makas sesuai pesan jam nyata ya</td>\n",
       "      <td>0</td>\n",
       "      <td>Produk</td>\n",
       "    </tr>\n",
       "    <tr>\n",
       "      <th>4</th>\n",
       "      <td>fast respon kirim cepat</td>\n",
       "      <td>1</td>\n",
       "      <td>Layanan Pelanggan</td>\n",
       "    </tr>\n",
       "  </tbody>\n",
       "</table>\n",
       "</div>"
      ],
      "text/plain": [
       "                                                text  category_id  \\\n",
       "0                            barang sesuai guna baik            0   \n",
       "1  produk kirim beda pics pics warna strap hitam ...            0   \n",
       "2  barang terima baik kirim cepat barang sesuai p...            2   \n",
       "3                    makas sesuai pesan jam nyata ya            0   \n",
       "4                            fast respon kirim cepat            1   \n",
       "\n",
       "               label  \n",
       "0             Produk  \n",
       "1             Produk  \n",
       "2         Pengiriman  \n",
       "3             Produk  \n",
       "4  Layanan Pelanggan  "
      ]
     },
     "execution_count": 43,
     "metadata": {},
     "output_type": "execute_result"
    }
   ],
   "source": [
    "df_join_train_70.head()"
   ]
  },
  {
   "cell_type": "markdown",
   "metadata": {},
   "source": [
    "## TFIDF\n"
   ]
  },
  {
   "cell_type": "code",
   "execution_count": 80,
   "metadata": {},
   "outputs": [],
   "source": [
    "import tfidf as tfidf\n",
    "import pickle\n",
    "\n",
    "# 90 : 10\n",
    "tfidf_model_90 = tfidf.TFIDF(df_join_train_90.text) # init tfidf model with train data\n",
    "df_tfidf_train_90 = df_join_train_90 \n",
    "df_tfidf_train_90['tfidf'] = df_join_train_90.text.apply(tfidf_model_90.transform) # get tfidf value for each word in train data\n",
    "df_tfidf_test_90 = df_join_test_90\n",
    "df_tfidf_test_90['tfidf'] = df_join_test_90.text.apply(tfidf_model_90.transform) # get tfidf value for each word in test data\n",
    "\n",
    "# save to pickle\n",
    "# with open('../../Dataset/TFIDF Model - 90.pkl', 'wb') as f:\n",
    "#     pickle.dump(tfidf_model_90, f, pickle.HIGHEST_PROTOCOL)\n",
    "\n",
    "# with open('../../Dataset/Dataset Skripsi - Fix Dataset (Final) - Upsampled - Clean - 90 - Train - TFIDF.pkl', 'wb') as f:\n",
    "#     pickle.dump(df_tfidf_train_90, f, pickle.HIGHEST_PROTOCOL)\n",
    "\n",
    "# with open('../../Dataset/Dataset Skripsi - Fix Dataset (Final) - Upsampled - Clean - 90 - Test - TFIDF.pkl', 'wb') as f:\n",
    "#     pickle.dump(df_tfidf_test_90, f, pickle.HIGHEST_PROTOCOL)\n"
   ]
  },
  {
   "cell_type": "code",
   "execution_count": 81,
   "metadata": {},
   "outputs": [],
   "source": [
    "# 80 : 20\n",
    "tfidf_model_80 = tfidf.TFIDF(df_join_train_80.text) # init tfidf model with train data\n",
    "df_tfidf_train_80 = df_join_train_80\n",
    "df_tfidf_train_80['tfidf'] = df_join_train_80.text.apply(tfidf_model_80.transform) # get tfidf value for each word in train data\n",
    "df_tfidf_test_80 = df_join_test_80\n",
    "df_tfidf_test_80['tfidf'] = df_join_test_80.text.apply(tfidf_model_80.transform) # get tfidf value for each word in test data\n",
    "\n",
    "# save to pickle\n",
    "# with open('../../Dataset/TFIDF Model - 80.pkl', 'wb') as f:\n",
    "#     pickle.dump(tfidf_model_80, f, pickle.HIGHEST_PROTOCOL)\n",
    "\n",
    "# with open('../../Dataset/Dataset Skripsi - Fix Dataset (Final) - Upsampled - Clean - 80 - Train - TFIDF.pkl', 'wb') as f:\n",
    "#     pickle.dump(df_tfidf_train_80, f, pickle.HIGHEST_PROTOCOL)\n",
    "\n",
    "# with open('../../Dataset/Dataset Skripsi - Fix Dataset (Final) - Upsampled - Clean - 80 - Test - TFIDF.pkl', 'wb') as f:\n",
    "#     pickle.dump(df_tfidf_test_80, f, pickle.HIGHEST_PROTOCOL)\n"
   ]
  },
  {
   "cell_type": "code",
   "execution_count": 82,
   "metadata": {},
   "outputs": [],
   "source": [
    "# 70 : 30\n",
    "tfidf_model_70 = tfidf.TFIDF(df_join_train_70.text) # init tfidf model with train data\n",
    "df_tfidf_train_70 = df_join_train_70\n",
    "df_tfidf_train_70['tfidf'] = df_join_train_70.text.apply(tfidf_model_70.transform) # get tfidf value for each word in train data\n",
    "df_tfidf_test_70 = df_join_test_70\n",
    "df_tfidf_test_70['tfidf'] = df_join_test_70.text.apply(tfidf_model_70.transform) # get tfidf value for each word in test data\n",
    "\n",
    "# save to pickle\n",
    "# with open('../../Dataset/TFIDF Model - 70.pkl', 'wb') as f:\n",
    "#     pickle.dump(tfidf_model_70, f, pickle.HIGHEST_PROTOCOL)\n",
    "\n",
    "# with open('../../Dataset/Dataset Skripsi - Fix Dataset (Final) - Upsampled - Clean - 70 - Train - TFIDF.pkl', 'wb') as f:\n",
    "#     pickle.dump(df_tfidf_train_70, f, pickle.HIGHEST_PROTOCOL)\n",
    "\n",
    "# with open('../../Dataset/Dataset Skripsi - Fix Dataset (Final) - Upsampled - Clean - 70 - Test - TFIDF.pkl', 'wb') as f:\n",
    "#     pickle.dump(df_tfidf_test_70, f, pickle.HIGHEST_PROTOCOL)"
   ]
  },
  {
   "cell_type": "code",
   "execution_count": null,
   "metadata": {},
   "outputs": [],
   "source": []
  }
 ],
 "metadata": {
  "kernelspec": {
   "display_name": "tf-gpu",
   "language": "python",
   "name": "python3"
  },
  "language_info": {
   "codemirror_mode": {
    "name": "ipython",
    "version": 3
   },
   "file_extension": ".py",
   "mimetype": "text/x-python",
   "name": "python",
   "nbconvert_exporter": "python",
   "pygments_lexer": "ipython3",
   "version": "3.9.16"
  }
 },
 "nbformat": 4,
 "nbformat_minor": 2
}
